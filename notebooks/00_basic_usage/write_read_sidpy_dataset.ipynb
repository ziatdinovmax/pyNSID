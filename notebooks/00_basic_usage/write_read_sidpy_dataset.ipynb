{
 "cells": [
  {
   "cell_type": "markdown",
   "execution_count": null,
   "metadata": {},
   "outputs": [],
   "source": [
    "# Write/read SIDpy Dataset via pyNSID\n",
    "\n",
    "*Author: Maxim Ziatdinov*\n",
    "\n",
    "*Date: September 2020*"
   ]
  },
  {
   "cell_type": "markdown",
   "execution_count": null,
   "metadata": {},
   "outputs": [],
   "source": [
    "A fast introduction into how to write SIDpy datasets to NSID formatted HDF5 files"
   ]
  },
  {
   "cell_type": "markdown",
   "execution_count": null,
   "metadata": {},
   "outputs": [],
   "source": [
    "Start with standard imports:"
   ]
  },
  {
   "cell_type": "code",
   "execution_count": 1,
   "metadata": {
    "execution": {
     "iopub.execute_input": "2020-11-20T21:43:46.509422Z",
     "iopub.status.busy": "2020-11-20T21:43:46.508580Z",
     "iopub.status.idle": "2020-11-20T21:43:47.581787Z",
     "shell.execute_reply": "2020-11-20T21:43:47.582265Z"
    }
   },
   "outputs": [],
   "source": [
    "# Ensure python 3 compatibility:\n",
    "from __future__ import (absolute_import, division, print_function,\n",
    "                        unicode_literals)\n",
    "\n",
    "import sys\n",
    "import warnings\n",
    "\n",
    "import h5py\n",
    "import matplotlib.pylab as plt\n",
    "import numpy as np\n",
    "\n",
    "# we will also need a sidpy package\n",
    "try:\n",
    "    import sidpy as sid\n",
    "except ModuleNotFoundError:\n",
    "    !pip3 install sidpy\n",
    "    import sidpy as sid\n",
    "\n",
    "sys.path.append('../')\n",
    "import pyNSID as nsid\n",
    "\n",
    "warnings.filterwarnings(\"ignore\", module=\"numpy.core.fromnumeric\")\n",
    "warnings.filterwarnings(\"ignore\", module=\"pyNSID.io.nsi_reader\")\n",
    "\n",
    "# Download test h5 file\n",
    "!wget -qq -O 'test.hf5' 'https://github.com/ziatdinovmax/pyNSID/blob/master/notebooks/00_basic_usage/test.hf5?raw=true'"
   ]
  },
  {
   "cell_type": "markdown",
   "execution_count": null,
   "metadata": {},
   "outputs": [],
   "source": [
    "## Creating sidpy.Dataset object(s)"
   ]
  },
  {
   "cell_type": "markdown",
   "execution_count": null,
   "metadata": {},
   "outputs": [],
   "source": [
    "Let's create a simple sidpy Dataset from a numpy array:"
   ]
  },
  {
   "cell_type": "code",
   "execution_count": 2,
   "metadata": {
    "execution": {
     "iopub.execute_input": "2020-11-20T21:43:47.593022Z",
     "iopub.status.busy": "2020-11-20T21:43:47.591038Z",
     "iopub.status.idle": "2020-11-20T21:43:47.597018Z",
     "shell.execute_reply": "2020-11-20T21:43:47.596550Z"
    }
   },
   "outputs": [
    {
     "data": {
      "text/html": [
       "<table>\n",
       "<tr>\n",
       "<td>\n",
       "<table>\n",
       "  <thead>\n",
       "    <tr><td> </td><th> Array </th><th> Chunk </th></tr>\n",
       "  </thead>\n",
       "  <tbody>\n",
       "    <tr><th> Bytes </th><td> 1.60 kB </td> <td> 1.60 kB </td></tr>\n",
       "    <tr><th> Shape </th><td> (4, 5, 10) </td> <td> (4, 5, 10) </td></tr>\n",
       "    <tr><th> Count </th><td> 1 Tasks </td><td> 1 Chunks </td></tr>\n",
       "    <tr><th> Type </th><td> float64 </td><td> numpy.ndarray </td></tr>\n",
       "  </tbody>\n",
       "</table>\n",
       "</td>\n",
       "<td>\n",
       "<svg width=\"208\" height=\"138\" style=\"stroke:rgb(0,0,0);stroke-width:1\" >\n",
       "\n",
       "  <!-- Horizontal lines -->\n",
       "  <line x1=\"10\" y1=\"0\" x2=\"38\" y2=\"28\" style=\"stroke-width:2\" />\n",
       "  <line x1=\"10\" y1=\"60\" x2=\"38\" y2=\"88\" style=\"stroke-width:2\" />\n",
       "\n",
       "  <!-- Vertical lines -->\n",
       "  <line x1=\"10\" y1=\"0\" x2=\"10\" y2=\"60\" style=\"stroke-width:2\" />\n",
       "  <line x1=\"38\" y1=\"28\" x2=\"38\" y2=\"88\" style=\"stroke-width:2\" />\n",
       "\n",
       "  <!-- Colored Rectangle -->\n",
       "  <polygon points=\"10.0,0.0 38.23529411764706,28.235294117647058 38.23529411764706,88.23529411764706 10.0,60.0\" style=\"fill:#ECB172A0;stroke-width:0\"/>\n",
       "\n",
       "  <!-- Horizontal lines -->\n",
       "  <line x1=\"10\" y1=\"0\" x2=\"130\" y2=\"0\" style=\"stroke-width:2\" />\n",
       "  <line x1=\"38\" y1=\"28\" x2=\"158\" y2=\"28\" style=\"stroke-width:2\" />\n",
       "\n",
       "  <!-- Vertical lines -->\n",
       "  <line x1=\"10\" y1=\"0\" x2=\"38\" y2=\"28\" style=\"stroke-width:2\" />\n",
       "  <line x1=\"130\" y1=\"0\" x2=\"158\" y2=\"28\" style=\"stroke-width:2\" />\n",
       "\n",
       "  <!-- Colored Rectangle -->\n",
       "  <polygon points=\"10.0,0.0 130.0,0.0 158.23529411764707,28.235294117647058 38.23529411764706,28.235294117647058\" style=\"fill:#ECB172A0;stroke-width:0\"/>\n",
       "\n",
       "  <!-- Horizontal lines -->\n",
       "  <line x1=\"38\" y1=\"28\" x2=\"158\" y2=\"28\" style=\"stroke-width:2\" />\n",
       "  <line x1=\"38\" y1=\"88\" x2=\"158\" y2=\"88\" style=\"stroke-width:2\" />\n",
       "\n",
       "  <!-- Vertical lines -->\n",
       "  <line x1=\"38\" y1=\"28\" x2=\"38\" y2=\"88\" style=\"stroke-width:2\" />\n",
       "  <line x1=\"158\" y1=\"28\" x2=\"158\" y2=\"88\" style=\"stroke-width:2\" />\n",
       "\n",
       "  <!-- Colored Rectangle -->\n",
       "  <polygon points=\"38.23529411764706,28.235294117647058 158.23529411764707,28.235294117647058 158.23529411764707,88.23529411764706 38.23529411764706,88.23529411764706\" style=\"fill:#ECB172A0;stroke-width:0\"/>\n",
       "\n",
       "  <!-- Text -->\n",
       "  <text x=\"98.235294\" y=\"108.235294\" font-size=\"1.0rem\" font-weight=\"100\" text-anchor=\"middle\" >10</text>\n",
       "  <text x=\"178.235294\" y=\"58.235294\" font-size=\"1.0rem\" font-weight=\"100\" text-anchor=\"middle\" transform=\"rotate(0,178.235294,58.235294)\">5</text>\n",
       "  <text x=\"14.117647\" y=\"94.117647\" font-size=\"1.0rem\" font-weight=\"100\" text-anchor=\"middle\" transform=\"rotate(45,14.117647,94.117647)\">4</text>\n",
       "</svg>\n",
       "</td>\n",
       "</tr>\n",
       "</table>"
      ],
      "text/plain": [
       "sidpy.Dataset of type UNKNOWN with:\n",
       " dask.array<new, shape=(4, 5, 10), dtype=float64, chunksize=(4, 5, 10), chunktype=numpy.ndarray>\n",
       " data contains: generic (generic)\n",
       " and Dimensions: \n",
       "  a:  generic (generic) of size (4,)\n",
       "  b:  generic (generic) of size (5,)\n",
       "  c:  generic (generic) of size (10,)"
      ]
     },
     "execution_count": 1,
     "metadata": {},
     "output_type": "execute_result"
    }
   ],
   "source": [
    "dataset = sid.Dataset.from_array(np.random.random([4, 5, 10]), name='new')\n",
    "dataset"
   ]
  },
  {
   "cell_type": "markdown",
   "execution_count": null,
   "metadata": {},
   "outputs": [],
   "source": [
    "Let's also define the dataset attributes..."
   ]
  },
  {
   "cell_type": "code",
   "execution_count": 3,
   "metadata": {
    "execution": {
     "iopub.execute_input": "2020-11-20T21:43:47.602491Z",
     "iopub.status.busy": "2020-11-20T21:43:47.601724Z",
     "iopub.status.idle": "2020-11-20T21:43:47.606329Z",
     "shell.execute_reply": "2020-11-20T21:43:47.605877Z"
    }
   },
   "outputs": [],
   "source": [
    "dataset.data_type = 'SPECTRAL_IMAGE'\n",
    "dataset.units = 'nA'\n",
    "dataset.quantity = 'Current'"
   ]
  },
  {
   "cell_type": "markdown",
   "execution_count": null,
   "metadata": {},
   "outputs": [],
   "source": [
    "... and set individual dimensions. In the case of spectroscopic datasets, the first two dimensions are typically spatial units (e.g. nm) and the third one can be energy (e.g. $meV$ or $nm^{-1}$)."
   ]
  },
  {
   "cell_type": "code",
   "execution_count": 4,
   "metadata": {
    "execution": {
     "iopub.execute_input": "2020-11-20T21:43:47.616902Z",
     "iopub.status.busy": "2020-11-20T21:43:47.614836Z",
     "iopub.status.idle": "2020-11-20T21:43:47.618255Z",
     "shell.execute_reply": "2020-11-20T21:43:47.619134Z"
    }
   },
   "outputs": [],
   "source": [
    "dataset.set_dimension(0, sid.Dimension(np.arange(dataset.shape[0]), 'x',\n",
    "                                        units='nm', quantity='Length',\n",
    "                                        dimension_type='spatial'))\n",
    "dataset.set_dimension(1, sid.Dimension(np.linspace(-2, 2, num=dataset.shape[1], endpoint=True), 'y', \n",
    "                                        units='nm', quantity='Length',\n",
    "                                        dimension_type='spatial'))\n",
    "dataset.set_dimension(2, sid.Dimension(np.sin(np.linspace(0, 2 * np.pi, num=dataset.shape[2])), 'bias',\n",
    "                                        units='mV', quantity='Voltage',\n",
    "                                        dimension_type='spectral'))"
   ]
  },
  {
   "cell_type": "code",
   "execution_count": 5,
   "metadata": {
    "execution": {
     "iopub.execute_input": "2020-11-20T21:43:47.627792Z",
     "iopub.status.busy": "2020-11-20T21:43:47.625992Z",
     "iopub.status.idle": "2020-11-20T21:43:47.629882Z",
     "shell.execute_reply": "2020-11-20T21:43:47.629371Z"
    }
   },
   "outputs": [
    {
     "name": "stdout",
     "output_type": "stream",
     "text": [
      "x:  Length (nm) of size (4,)\n",
      "y:  Length (nm) of size (5,)\n",
      "bias:  Voltage (mV) of size (10,)\n"
     ]
    }
   ],
   "source": [
    "print(dataset.dim_0)\n",
    "print(dataset.dim_1)\n",
    "print(dataset.dim_2)"
   ]
  },
  {
   "cell_type": "markdown",
   "execution_count": null,
   "metadata": {},
   "outputs": [],
   "source": [
    "## Writing sidpy.Dataset object(s) to HDF5 files"
   ]
  },
  {
   "cell_type": "markdown",
   "execution_count": null,
   "metadata": {},
   "outputs": [],
   "source": [
    "Load NSID-formatted h5 file:"
   ]
  },
  {
   "cell_type": "code",
   "execution_count": 6,
   "metadata": {
    "execution": {
     "iopub.execute_input": "2020-11-20T21:43:47.640398Z",
     "iopub.status.busy": "2020-11-20T21:43:47.638040Z",
     "iopub.status.idle": "2020-11-20T21:43:47.642611Z",
     "shell.execute_reply": "2020-11-20T21:43:47.641891Z"
    }
   },
   "outputs": [
    {
     "name": "stdout",
     "output_type": "stream",
     "text": [
      "Channel_000 Channel_001 Channel_002\n"
     ]
    }
   ],
   "source": [
    "hf = h5py.File(\"test.hf5\", 'r+')\n",
    "print(*hf[\"Measurement_000\"].keys())"
   ]
  },
  {
   "cell_type": "markdown",
   "execution_count": null,
   "metadata": {},
   "outputs": [],
   "source": [
    "Let's create a new channel where we are going to save our sidpy dataset:"
   ]
  },
  {
   "cell_type": "code",
   "execution_count": 7,
   "metadata": {
    "execution": {
     "iopub.execute_input": "2020-11-20T21:43:47.651225Z",
     "iopub.status.busy": "2020-11-20T21:43:47.649145Z",
     "iopub.status.idle": "2020-11-20T21:43:47.653366Z",
     "shell.execute_reply": "2020-11-20T21:43:47.652910Z"
    }
   },
   "outputs": [
    {
     "data": {
      "text/plain": [
       "<HDF5 group \"/Measurement_000/Channel_003\" (0 members)>"
      ]
     },
     "execution_count": 1,
     "metadata": {},
     "output_type": "execute_result"
    }
   ],
   "source": [
    "hf.create_group('Measurement_000/Channel_003')"
   ]
  },
  {
   "cell_type": "markdown",
   "execution_count": null,
   "metadata": {},
   "outputs": [],
   "source": [
    "Now let's write our sidpy dataset into the newly created channel:"
   ]
  },
  {
   "cell_type": "code",
   "execution_count": 8,
   "metadata": {
    "execution": {
     "iopub.execute_input": "2020-11-20T21:43:47.659835Z",
     "iopub.status.busy": "2020-11-20T21:43:47.658399Z",
     "iopub.status.idle": "2020-11-20T21:43:47.681611Z",
     "shell.execute_reply": "2020-11-20T21:43:47.681044Z"
    }
   },
   "outputs": [
    {
     "name": "stderr",
     "output_type": "stream",
     "text": [
      "/home/travis/virtualenv/python3.7.1/lib/python3.7/site-packages/pyNSID/io/hdf_utils.py:349: FutureWarning: validate_h5_dimension may be removed in a future version\n",
      "  FutureWarning)\n"
     ]
    },
    {
     "data": {
      "text/plain": [
       "<HDF5 dataset \"new_spectrum\": shape (4, 5, 10), type \"<f8\">"
      ]
     },
     "execution_count": 1,
     "metadata": {},
     "output_type": "execute_result"
    }
   ],
   "source": [
    "nsid.hdf_io.write_nsid_dataset(dataset, hf['Measurement_000/Channel_003'], main_data_name=\"new_spectrum\");"
   ]
  },
  {
   "cell_type": "markdown",
   "execution_count": null,
   "metadata": {},
   "outputs": [],
   "source": [
    "Close h5 file:"
   ]
  },
  {
   "cell_type": "code",
   "execution_count": 9,
   "metadata": {
    "execution": {
     "iopub.execute_input": "2020-11-20T21:43:47.686984Z",
     "iopub.status.busy": "2020-11-20T21:43:47.685974Z",
     "iopub.status.idle": "2020-11-20T21:43:47.689447Z",
     "shell.execute_reply": "2020-11-20T21:43:47.689989Z"
    }
   },
   "outputs": [],
   "source": [
    "hf.close()"
   ]
  },
  {
   "cell_type": "markdown",
   "execution_count": null,
   "metadata": {},
   "outputs": [],
   "source": [
    "## Reading sidpy.Dataset object(s)"
   ]
  },
  {
   "cell_type": "markdown",
   "execution_count": null,
   "metadata": {},
   "outputs": [],
   "source": [
    "Load back the file:"
   ]
  },
  {
   "cell_type": "code",
   "execution_count": 10,
   "metadata": {
    "execution": {
     "iopub.execute_input": "2020-11-20T21:43:47.699455Z",
     "iopub.status.busy": "2020-11-20T21:43:47.697405Z",
     "iopub.status.idle": "2020-11-20T21:43:47.701693Z",
     "shell.execute_reply": "2020-11-20T21:43:47.701133Z"
    }
   },
   "outputs": [
    {
     "name": "stdout",
     "output_type": "stream",
     "text": [
      "Channel_000 Channel_001 Channel_002 Channel_003\n"
     ]
    }
   ],
   "source": [
    "hf = h5py.File(\"test.hf5\", 'r+')\n",
    "print(*hf[\"Measurement_000\"].keys())"
   ]
  },
  {
   "cell_type": "markdown",
   "execution_count": null,
   "metadata": {},
   "outputs": [],
   "source": [
    "Find our dataset:"
   ]
  },
  {
   "cell_type": "code",
   "execution_count": 11,
   "metadata": {
    "execution": {
     "iopub.execute_input": "2020-11-20T21:43:47.707779Z",
     "iopub.status.busy": "2020-11-20T21:43:47.706713Z",
     "iopub.status.idle": "2020-11-20T21:43:47.725137Z",
     "shell.execute_reply": "2020-11-20T21:43:47.725713Z"
    }
   },
   "outputs": [
    {
     "data": {
      "text/plain": [
       "<HDF5 dataset \"new_spectrum\": shape (4, 5, 10), type \"<f8\">"
      ]
     },
     "execution_count": 1,
     "metadata": {},
     "output_type": "execute_result"
    }
   ],
   "source": [
    "dataset_hdf5  =  nsid.io.hdf_utils.find_dataset(hf,'new_spectrum')[0]\n",
    "dataset_hdf5"
   ]
  },
  {
   "cell_type": "markdown",
   "execution_count": null,
   "metadata": {},
   "outputs": [],
   "source": [
    "Read the dataset stored in HDF5 format as a sidpy object (Dataset) using NSIDReader:"
   ]
  },
  {
   "cell_type": "code",
   "execution_count": 12,
   "metadata": {
    "execution": {
     "iopub.execute_input": "2020-11-20T21:43:47.731660Z",
     "iopub.status.busy": "2020-11-20T21:43:47.730643Z",
     "iopub.status.idle": "2020-11-20T21:43:47.760155Z",
     "shell.execute_reply": "2020-11-20T21:43:47.759483Z"
    }
   },
   "outputs": [],
   "source": [
    "dr = nsid.NSIDReader(dataset_hdf5)\n",
    "dataset_sid = dr.read()[0]\n",
    "assert isinstance(dataset_sid, sid.sid.dataset.Dataset)"
   ]
  },
  {
   "cell_type": "markdown",
   "execution_count": null,
   "metadata": {},
   "outputs": [],
   "source": [
    "View the attributes, which are stored as Python dictionary:"
   ]
  },
  {
   "cell_type": "code",
   "execution_count": 13,
   "metadata": {
    "execution": {
     "iopub.execute_input": "2020-11-20T21:43:47.769775Z",
     "iopub.status.busy": "2020-11-20T21:43:47.768316Z",
     "iopub.status.idle": "2020-11-20T21:43:47.771544Z",
     "shell.execute_reply": "2020-11-20T21:43:47.770307Z"
    }
   },
   "outputs": [
    {
     "name": "stdout",
     "output_type": "stream",
     "text": [
      "DIMENSION_LABELS: ['x' 'y' 'bias']\n",
      "DIMENSION_LIST: [array([<HDF5 object reference>], dtype=object)\n",
      " array([<HDF5 object reference>], dtype=object)\n",
      " array([<HDF5 object reference>], dtype=object)]\n",
      "data_type: SPECTRAL_IMAGE\n",
      "main_data_name: new\n",
      "modality: generic\n",
      "nsid_version: 0.0.1\n",
      "quantity: Current\n",
      "source: generic\n",
      "units: nA\n"
     ]
    }
   ],
   "source": [
    "for k, v in dataset_sid.attrs.items():\n",
    "    print(\"{}: {}\".format(k, v))"
   ]
  },
  {
   "cell_type": "code",
   "execution_count": null,
   "metadata": {},
   "outputs": [],
   "source": []
  }
 ],
 "metadata": {
  "kernelspec": {
   "display_name": "Python 3",
   "language": "python",
   "name": "python3"
  },
  "language_info": {
   "codemirror_mode": {
    "name": "ipython",
    "version": 3
   },
   "file_extension": ".py",
   "mimetype": "text/x-python",
   "name": "python",
   "nbconvert_exporter": "python",
   "pygments_lexer": "ipython3",
   "version": "3.7.1"
  }
 },
 "nbformat": 4,
 "nbformat_minor": 4
}
